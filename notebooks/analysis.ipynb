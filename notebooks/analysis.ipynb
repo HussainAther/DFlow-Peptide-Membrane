{
 "cells": [
  {
   "cell_type": "code",
   "execution_count": 1,
   "id": "de80962f",
   "metadata": {},
   "outputs": [],
   "source": [
    "import pandas as pd\n",
    "import numpy as np\n",
    "import matplotlib.pyplot as plt\n",
    "import seaborn as sns\n",
    "import json\n"
   ]
  },
  {
   "cell_type": "code",
   "execution_count": 2,
   "id": "f4235119",
   "metadata": {},
   "outputs": [
    {
     "data": {
      "text/html": [
       "<div>\n",
       "<style scoped>\n",
       "    .dataframe tbody tr th:only-of-type {\n",
       "        vertical-align: middle;\n",
       "    }\n",
       "\n",
       "    .dataframe tbody tr th {\n",
       "        vertical-align: top;\n",
       "    }\n",
       "\n",
       "    .dataframe thead th {\n",
       "        text-align: right;\n",
       "    }\n",
       "</style>\n",
       "<table border=\"1\" class=\"dataframe\">\n",
       "  <thead>\n",
       "    <tr style=\"text-align: right;\">\n",
       "      <th></th>\n",
       "      <th>Cycle</th>\n",
       "      <th>Peptide_Count</th>\n",
       "      <th>Membrane_Thickness</th>\n",
       "    </tr>\n",
       "  </thead>\n",
       "  <tbody>\n",
       "    <tr>\n",
       "      <th>0</th>\n",
       "      <td>1</td>\n",
       "      <td>100</td>\n",
       "      <td>3.00</td>\n",
       "    </tr>\n",
       "    <tr>\n",
       "      <th>1</th>\n",
       "      <td>2</td>\n",
       "      <td>95</td>\n",
       "      <td>3.05</td>\n",
       "    </tr>\n",
       "    <tr>\n",
       "      <th>2</th>\n",
       "      <td>3</td>\n",
       "      <td>88</td>\n",
       "      <td>3.10</td>\n",
       "    </tr>\n",
       "    <tr>\n",
       "      <th>3</th>\n",
       "      <td>4</td>\n",
       "      <td>79</td>\n",
       "      <td>3.12</td>\n",
       "    </tr>\n",
       "    <tr>\n",
       "      <th>4</th>\n",
       "      <td>5</td>\n",
       "      <td>72</td>\n",
       "      <td>3.18</td>\n",
       "    </tr>\n",
       "  </tbody>\n",
       "</table>\n",
       "</div>"
      ],
      "text/plain": [
       "   Cycle  Peptide_Count  Membrane_Thickness\n",
       "0      1            100                3.00\n",
       "1      2             95                3.05\n",
       "2      3             88                3.10\n",
       "3      4             79                3.12\n",
       "4      5             72                3.18"
      ]
     },
     "execution_count": 2,
     "metadata": {},
     "output_type": "execute_result"
    }
   ],
   "source": [
    "# Load peptide evolution data\n",
    "peptide_data = pd.read_csv(\"../data/peptide_evolution.csv\")\n",
    "\n",
    "# Load membrane thickness history\n",
    "with open(\"../data/membrane_thickness.json\", \"r\") as f:\n",
    "    membrane_data = json.load(f)\n",
    "\n",
    "# Extract membrane thickness history\n",
    "membrane_thickness_history = membrane_data[\"History\"]\n",
    "\n",
    "# Display first few rows of peptide data\n",
    "peptide_data.head()\n"
   ]
  },
  {
   "cell_type": "code",
   "execution_count": 4,
   "id": "249f3a2b",
   "metadata": {},
   "outputs": [
    {
     "data": {
      "image/png": "[encoded data removed]",
      "text/plain": [
       "<Figure size 800x500 with 1 Axes>"
      ]
     },
     "metadata": {},
     "output_type": "display_data"
    }
   ],
   "source": [
    "plt.figure(figsize=(8,5))\n",
    "sns.scatterplot(x=\"Peptide_Count\", y=\"Membrane_Thickness\", data=peptide_data, color=\"purple\")\n",
    "plt.xlabel(\"Peptide Count\")\n",
    "plt.ylabel(\"Membrane Thickness\")\n",
    "plt.title(\"Peptide Count vs. Membrane Thickness\")\n",
    "plt.grid(True)\n",
    "plt.show()\n"
   ]
  },
  {
   "cell_type": "code",
   "execution_count": 6,
   "id": "ed3a0ce1",
   "metadata": {},
   "outputs": [
    {
     "ename": "AttributeError",
     "evalue": "module 'dflow' has no attribute 'PeptideFlow'",
     "output_type": "error",
     "traceback": [
      "\u001b[0;31m---------------------------------------------------------------------------\u001b[0m",
      "\u001b[0;31mAttributeError\u001b[0m                            Traceback (most recent call last)",
      "Cell \u001b[0;32mIn[6], line 69\u001b[0m\n\u001b[1;32m     66\u001b[0m             json\u001b[38;5;241m.\u001b[39mdump({\u001b[38;5;124m\"\u001b[39m\u001b[38;5;124mMembrane_Thickness\u001b[39m\u001b[38;5;124m\"\u001b[39m: \u001b[38;5;28mself\u001b[39m\u001b[38;5;241m.\u001b[39mmembrane_thickness, \u001b[38;5;124m\"\u001b[39m\u001b[38;5;124mHistory\u001b[39m\u001b[38;5;124m\"\u001b[39m: [d[\u001b[38;5;124m\"\u001b[39m\u001b[38;5;124mMembrane_Thickness\u001b[39m\u001b[38;5;124m\"\u001b[39m] \u001b[38;5;28;01mfor\u001b[39;00m d \u001b[38;5;129;01min\u001b[39;00m \u001b[38;5;28mself\u001b[39m\u001b[38;5;241m.\u001b[39mpeptide_evolution_log]}, f, indent\u001b[38;5;241m=\u001b[39m\u001b[38;5;241m4\u001b[39m)\n\u001b[1;32m     68\u001b[0m \u001b[38;5;28;01mif\u001b[39;00m \u001b[38;5;18m__name__\u001b[39m \u001b[38;5;241m==\u001b[39m \u001b[38;5;124m\"\u001b[39m\u001b[38;5;124m__main__\u001b[39m\u001b[38;5;124m\"\u001b[39m:\n\u001b[0;32m---> 69\u001b[0m     sim \u001b[38;5;241m=\u001b[39m \u001b[43mDFlowPeptideMembraneSim\u001b[49m\u001b[43m(\u001b[49m\u001b[43m)\u001b[49m\n\u001b[1;32m     70\u001b[0m     sim\u001b[38;5;241m.\u001b[39miterate_selection()\n\u001b[1;32m     71\u001b[0m     sim\u001b[38;5;241m.\u001b[39msave_logs()\n",
      "Cell \u001b[0;32mIn[6], line 13\u001b[0m, in \u001b[0;36mDFlowPeptideMembraneSim.__init__\u001b[0;34m(self, num_peptides, sequence_length, mutation_rate, max_cycles)\u001b[0m\n\u001b[1;32m     11\u001b[0m \u001b[38;5;28mself\u001b[39m\u001b[38;5;241m.\u001b[39mmutation_rate \u001b[38;5;241m=\u001b[39m mutation_rate\n\u001b[1;32m     12\u001b[0m \u001b[38;5;28mself\u001b[39m\u001b[38;5;241m.\u001b[39mmax_cycles \u001b[38;5;241m=\u001b[39m max_cycles\n\u001b[0;32m---> 13\u001b[0m \u001b[38;5;28mself\u001b[39m\u001b[38;5;241m.\u001b[39mpeptides \u001b[38;5;241m=\u001b[39m \u001b[38;5;28;43mself\u001b[39;49m\u001b[38;5;241;43m.\u001b[39;49m\u001b[43mgenerate_peptides\u001b[49m\u001b[43m(\u001b[49m\u001b[43m)\u001b[49m\n\u001b[1;32m     14\u001b[0m \u001b[38;5;28mself\u001b[39m\u001b[38;5;241m.\u001b[39mmembrane_thickness \u001b[38;5;241m=\u001b[39m np\u001b[38;5;241m.\u001b[39mrandom\u001b[38;5;241m.\u001b[39muniform(\u001b[38;5;241m2.5\u001b[39m, \u001b[38;5;241m3.5\u001b[39m)\n\u001b[1;32m     15\u001b[0m \u001b[38;5;28mself\u001b[39m\u001b[38;5;241m.\u001b[39mpeptide_evolution_log \u001b[38;5;241m=\u001b[39m []\n",
      "Cell \u001b[0;32mIn[6], line 19\u001b[0m, in \u001b[0;36mDFlowPeptideMembraneSim.generate_peptides\u001b[0;34m(self)\u001b[0m\n\u001b[1;32m     17\u001b[0m \u001b[38;5;28;01mdef\u001b[39;00m\u001b[38;5;250m \u001b[39m\u001b[38;5;21mgenerate_peptides\u001b[39m(\u001b[38;5;28mself\u001b[39m):\n\u001b[1;32m     18\u001b[0m \u001b[38;5;250m    \u001b[39m\u001b[38;5;124;03m\"\"\"Generate hybrid L-D peptides using D-Flow.\"\"\"\u001b[39;00m\n\u001b[0;32m---> 19\u001b[0m     model \u001b[38;5;241m=\u001b[39m \u001b[43mdflow\u001b[49m\u001b[38;5;241;43m.\u001b[39;49m\u001b[43mPeptideFlow\u001b[49m\u001b[38;5;241m.\u001b[39mload_pretrained(\u001b[38;5;124m\"\u001b[39m\u001b[38;5;124mdflow_model.pt\u001b[39m\u001b[38;5;124m\"\u001b[39m)  \n\u001b[1;32m     20\u001b[0m     l_d_peptides \u001b[38;5;241m=\u001b[39m model\u001b[38;5;241m.\u001b[39msample(\u001b[38;5;28mself\u001b[39m\u001b[38;5;241m.\u001b[39mnum_peptides, seq_length\u001b[38;5;241m=\u001b[39m\u001b[38;5;28mself\u001b[39m\u001b[38;5;241m.\u001b[39msequence_length, hybrid\u001b[38;5;241m=\u001b[39m\u001b[38;5;28;01mTrue\u001b[39;00m)\n\u001b[1;32m     21\u001b[0m     \u001b[38;5;28;01mreturn\u001b[39;00m l_d_peptides\n",
      "\u001b[0;31mAttributeError\u001b[0m: module 'dflow' has no attribute 'PeptideFlow'"
     ]
    }
   ],
   "source": [
    "import os\n",
    "import numpy as np\n",
    "import pandas as pd\n",
    "import json\n",
    "import subprocess  # To call D-Flow peptide generator\n",
    "\n",
    "class DFlowPeptideMembraneSim:\n",
    "    def __init__(self, num_peptides=200, sequence_length=20, mutation_rate=0.05, max_cycles=1000):\n",
    "        self.num_peptides = num_peptides\n",
    "        self.sequence_length = sequence_length\n",
    "        self.mutation_rate = mutation_rate\n",
    "        self.max_cycles = max_cycles\n",
    "        self.peptides = self.generate_peptides()\n",
    "        self.membrane_thickness = np.random.uniform(2.5, 3.5)\n",
    "        self.peptide_evolution_log = []\n",
    "\n",
    "    def generate_peptides(self):\n",
    "        \"\"\"Generate hybrid L-D peptides using D-Flow's inference script.\"\"\"\n",
    "        output_file = \"generated_peptides.txt\"\n",
    "\n",
    "        # Run the D-Flow inference script\n",
    "        subprocess.run([\"python\", \"dflow/experiments/inference_pep.py\", \"--output\", output_file])\n",
    "\n",
    "        # Read the generated peptides\n",
    "        if os.path.exists(output_file):\n",
    "            with open(output_file, \"r\") as f:\n",
    "                peptides = [line.strip() for line in f.readlines()]\n",
    "        else:\n",
    "            raise FileNotFoundError(\"D-Flow peptide output file not found!\")\n",
    "\n",
    "        return peptides[:self.num_peptides]  # Limit to specified number\n",
    "\n",
    "    def mutate_peptide(self, peptide):\n",
    "        \"\"\"Introduce random mutations based on the mutation rate.\"\"\"\n",
    "        peptide = list(peptide)\n",
    "        for i in range(len(peptide)):\n",
    "            if np.random.rand() < self.mutation_rate:\n",
    "                peptide[i] = np.random.choice([\"L\", \"R\", \"0\"])  # Randomly mutate an amino acid\n",
    "        return \"\".join(peptide)\n",
    "\n",
    "    def check_stability(self, peptide):\n",
    "        \"\"\"Determine if a peptide stabilizes the membrane.\"\"\"\n",
    "        hydrophobic_count = sum(1 for aa in peptide if aa in \"LR\")\n",
    "        return abs(hydrophobic_count - self.membrane_thickness) < 0.5  # Stability threshold\n",
    "\n",
    "    def iterate_selection(self):\n",
    "        \"\"\"Run extended evolutionary simulation.\"\"\"\n",
    "        for cycle in range(self.max_cycles):\n",
    "            self.peptides = [self.mutate_peptide(p) for p in self.peptides]  # Apply mutations\n",
    "            \n",
    "            # Select only peptides that stabilize membrane\n",
    "            self.peptides = [p for p in self.peptides if self.check_stability(p)]\n",
    "\n",
    "            # Log data\n",
    "            self.peptide_evolution_log.append({\n",
    "                \"Cycle\": cycle,\n",
    "                \"Peptide_Count\": len(self.peptides),\n",
    "                \"Membrane_Thickness\": self.membrane_thickness\n",
    "            })\n",
    "\n",
    "            # Maintain diversity by reintroducing peptides if count drops too low\n",
    "            if len(self.peptides) < 10:\n",
    "                self.peptides += self.generate_peptides()\n",
    "\n",
    "            # Adjust membrane thickness in response to peptide environment\n",
    "            self.membrane_thickness += np.random.uniform(-0.05, 0.05)\n",
    "\n",
    "    def save_logs(self):\n",
    "        \"\"\"Save simulation logs and membrane thickness data.\"\"\"\n",
    "        os.makedirs(\"data\", exist_ok=True)\n",
    "        \n",
    "        df = pd.DataFrame(self.peptide_evolution_log)\n",
    "        df.to_csv(\"data/peptide_evolution.csv\", index=False)\n",
    "\n",
    "        with open(\"data/membrane_thickness.json\", \"w\") as f:\n",
    "            json.dump({\"Membrane_Thickness\": self.membrane_thickness, \"History\": [d[\"Membrane_Thickness\"] for d in self.peptide_evolution_log]}, f, indent=4)\n",
    "\n",
    "if __name__ == \"__main__\":\n",
    "    sim = DFlowPeptideMembraneSim()\n",
    "    sim.iterate_selection()\n",
    "    sim.save_logs()\n"
   ]
  },
  {
   "cell_type": "code",
   "execution_count": null,
   "id": "18031a5d",
   "metadata": {},
   "outputs": [],
   "source": []
  }
 ],
 "metadata": {
  "kernelspec": {
   "display_name": "Python (orel)",
   "language": "python",
   "name": "orel"
  },
  "language_info": {
   "codemirror_mode": {
    "name": "ipython",
    "version": 3
   },
   "file_extension": ".py",
   "mimetype": "text/x-python",
   "name": "python",
   "nbconvert_exporter": "python",
   "pygments_lexer": "ipython3",
   "version": "3.9.18"
  }
 },
 "nbformat": 4,
 "nbformat_minor": 5
}
